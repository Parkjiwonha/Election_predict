{
 "cells": [
  {
   "cell_type": "code",
   "execution_count": 278,
   "metadata": {},
   "outputs": [],
   "source": [
    "import pandas as pd\n",
    "import numpy as np\n",
    "import datetime\n",
    "import re\n",
    "from tensorflow.keras.preprocessing.text import text_to_word_sequence\n",
    "from keras.preprocessing.text import Tokenizer\n",
    "from nltk.corpus import stopwords\n",
    "from nltk.tokenize import word_tokenize\n",
    "from nltk.stem import PorterStemmer\n",
    "from nltk.stem import LancasterStemmer\n",
    "from nltk import FreqDist\n",
    "from nltk.tag import pos_tag\n",
    "from nltk.stem import WordNetLemmatizer\n",
    "\n",
    "import matplotlib.pyplot as plt\n",
    "import seaborn as sns\n",
    "import plotly.express as px\n",
    "import plotly.graph_objs as go\n",
    "\n",
    "from sklearn.feature_extraction.text import TfidfVectorizer"
   ]
  },
  {
   "cell_type": "code",
   "execution_count": 279,
   "metadata": {},
   "outputs": [],
   "source": [
    "news=pd.read_csv('news.csv')"
   ]
  },
  {
   "cell_type": "code",
   "execution_count": 280,
   "metadata": {},
   "outputs": [
    {
     "data": {
      "text/html": [
       "<div>\n",
       "<style scoped>\n",
       "    .dataframe tbody tr th:only-of-type {\n",
       "        vertical-align: middle;\n",
       "    }\n",
       "\n",
       "    .dataframe tbody tr th {\n",
       "        vertical-align: top;\n",
       "    }\n",
       "\n",
       "    .dataframe thead th {\n",
       "        text-align: right;\n",
       "    }\n",
       "</style>\n",
       "<table border=\"1\" class=\"dataframe\">\n",
       "  <thead>\n",
       "    <tr style=\"text-align: right;\">\n",
       "      <th></th>\n",
       "      <th>Title</th>\n",
       "      <th>Date</th>\n",
       "      <th>Press</th>\n",
       "      <th>Topic</th>\n",
       "      <th>Text</th>\n",
       "    </tr>\n",
       "  </thead>\n",
       "  <tbody>\n",
       "    <tr>\n",
       "      <th>0</th>\n",
       "      <td>Newt Gingrich: Democrats prove they are the 'L...</td>\n",
       "      <td>2020-09-01</td>\n",
       "      <td>Fox</td>\n",
       "      <td>2020 Presidential Election</td>\n",
       "      <td>Fox News Flash top entertainment and celebrity...</td>\n",
       "    </tr>\n",
       "    <tr>\n",
       "      <th>1</th>\n",
       "      <td>Ed Rollins says election could come down to Wi...</td>\n",
       "      <td>2020-09-01</td>\n",
       "      <td>Fox</td>\n",
       "      <td>2020 Presidential Election</td>\n",
       "      <td>White House Strategic Communications Director ...</td>\n",
       "    </tr>\n",
       "    <tr>\n",
       "      <th>2</th>\n",
       "      <td>Anti-Trump Lincoln Project launches coalition ...</td>\n",
       "      <td>2020-09-01</td>\n",
       "      <td>Fox</td>\n",
       "      <td>ELECTIONS</td>\n",
       "      <td>House Minority Leader Kevin McCarthy, R-Calif....</td>\n",
       "    </tr>\n",
       "    <tr>\n",
       "      <th>3</th>\n",
       "      <td>Biden’s tough tone on riots comes amid attacks...</td>\n",
       "      <td>2020-09-01</td>\n",
       "      <td>Fox</td>\n",
       "      <td>ELECTIONS</td>\n",
       "      <td>Steve Hilton highlights President Trump's fulf...</td>\n",
       "    </tr>\n",
       "    <tr>\n",
       "      <th>4</th>\n",
       "      <td>NY attorney general files injunction to stop T...</td>\n",
       "      <td>2020-09-02</td>\n",
       "      <td>Fox</td>\n",
       "      <td>ELECTIONS</td>\n",
       "      <td>President Trump holds a ‘Making America Great ...</td>\n",
       "    </tr>\n",
       "  </tbody>\n",
       "</table>\n",
       "</div>"
      ],
      "text/plain": [
       "                                               Title        Date Press  \\\n",
       "0  Newt Gingrich: Democrats prove they are the 'L...  2020-09-01   Fox   \n",
       "1  Ed Rollins says election could come down to Wi...  2020-09-01   Fox   \n",
       "2  Anti-Trump Lincoln Project launches coalition ...  2020-09-01   Fox   \n",
       "3  Biden’s tough tone on riots comes amid attacks...  2020-09-01   Fox   \n",
       "4  NY attorney general files injunction to stop T...  2020-09-02   Fox   \n",
       "\n",
       "                        Topic  \\\n",
       "0  2020 Presidential Election   \n",
       "1  2020 Presidential Election   \n",
       "2                   ELECTIONS   \n",
       "3                   ELECTIONS   \n",
       "4                   ELECTIONS   \n",
       "\n",
       "                                                Text  \n",
       "0  Fox News Flash top entertainment and celebrity...  \n",
       "1  White House Strategic Communications Director ...  \n",
       "2  House Minority Leader Kevin McCarthy, R-Calif....  \n",
       "3  Steve Hilton highlights President Trump's fulf...  \n",
       "4  President Trump holds a ‘Making America Great ...  "
      ]
     },
     "execution_count": 280,
     "metadata": {},
     "output_type": "execute_result"
    }
   ],
   "source": [
    "news.head()"
   ]
  },
  {
   "cell_type": "code",
   "execution_count": 507,
   "metadata": {},
   "outputs": [],
   "source": [
    "news['Date']=pd.to_datetime(news['Date'])\n",
    "date_rng = pd.date_range('2020-08-27', periods = 10, freq='W')\n",
    "news['Week']=pd.cut(news.Date, bins=date_rng, right=False)"
   ]
  },
  {
   "cell_type": "code",
   "execution_count": 282,
   "metadata": {},
   "outputs": [],
   "source": [
    "news=news[(news['Date']!='2020-11-01')&(news['Date']!='2020-11-02')]"
   ]
  },
  {
   "cell_type": "code",
   "execution_count": 283,
   "metadata": {},
   "outputs": [
    {
     "data": {
      "text/plain": [
       "array(['Fox', 'NPR', 'Reuters', 'CBS', 'Politico'], dtype=object)"
      ]
     },
     "execution_count": 283,
     "metadata": {},
     "output_type": "execute_result"
    }
   ],
   "source": [
    "news.Press.unique()"
   ]
  },
  {
   "cell_type": "code",
   "execution_count": 284,
   "metadata": {},
   "outputs": [],
   "source": [
    "Fox=news[news.Press=='Fox']\n",
    "RN=news[(news.Press=='Reuters')|(news.Press=='NPR')]\n",
    "CP=news[(news.Press=='CBS')|(news.Press=='Politico')]"
   ]
  },
  {
   "cell_type": "code",
   "execution_count": 285,
   "metadata": {},
   "outputs": [
    {
     "name": "stderr",
     "output_type": "stream",
     "text": [
      "C:\\Users\\jw517\\AppData\\Roaming\\Python\\Python37\\site-packages\\ipykernel_launcher.py:1: SettingWithCopyWarning: \n",
      "A value is trying to be set on a copy of a slice from a DataFrame.\n",
      "Try using .loc[row_indexer,col_indexer] = value instead\n",
      "\n",
      "See the caveats in the documentation: https://pandas.pydata.org/pandas-docs/stable/user_guide/indexing.html#returning-a-view-versus-a-copy\n",
      "  \"\"\"Entry point for launching an IPython kernel.\n",
      "C:\\Users\\jw517\\AppData\\Roaming\\Python\\Python37\\site-packages\\ipykernel_launcher.py:2: SettingWithCopyWarning: \n",
      "A value is trying to be set on a copy of a slice from a DataFrame.\n",
      "Try using .loc[row_indexer,col_indexer] = value instead\n",
      "\n",
      "See the caveats in the documentation: https://pandas.pydata.org/pandas-docs/stable/user_guide/indexing.html#returning-a-view-versus-a-copy\n",
      "  \n",
      "C:\\Users\\jw517\\AppData\\Roaming\\Python\\Python37\\site-packages\\ipykernel_launcher.py:3: SettingWithCopyWarning: \n",
      "A value is trying to be set on a copy of a slice from a DataFrame.\n",
      "Try using .loc[row_indexer,col_indexer] = value instead\n",
      "\n",
      "See the caveats in the documentation: https://pandas.pydata.org/pandas-docs/stable/user_guide/indexing.html#returning-a-view-versus-a-copy\n",
      "  This is separate from the ipykernel package so we can avoid doing imports until\n"
     ]
    }
   ],
   "source": [
    "Fox['MB']='Right'\n",
    "RN['MB']='Center'\n",
    "CP['MB']='Left'"
   ]
  },
  {
   "cell_type": "code",
   "execution_count": 286,
   "metadata": {},
   "outputs": [],
   "source": [
    "news=pd.concat([Fox,RN,CP],ignore_index=True)"
   ]
  },
  {
   "cell_type": "code",
   "execution_count": 287,
   "metadata": {},
   "outputs": [],
   "source": [
    "news.Text=news.Text.str.lower()"
   ]
  },
  {
   "cell_type": "code",
   "execution_count": 288,
   "metadata": {},
   "outputs": [],
   "source": [
    "news.Text=news.Text.str.replace('\\xa0@|\\xa0',' ')\n",
    "news.Text=news.Text.str.replace(\"\\|\\n|\\'\",\" \")\n",
    "news.Text=news.Text.str.strip()"
   ]
  },
  {
   "cell_type": "code",
   "execution_count": 289,
   "metadata": {},
   "outputs": [],
   "source": [
    "shortword = re.compile(r'\\W*\\b\\w{1,2}\\b')\n",
    "news.Text=news.Text.str.replace(shortword,'')"
   ]
  },
  {
   "cell_type": "code",
   "execution_count": 297,
   "metadata": {},
   "outputs": [],
   "source": [
    "# stop_words = set()\n",
    "lis=stopwords.words('english')"
   ]
  },
  {
   "cell_type": "code",
   "execution_count": 321,
   "metadata": {},
   "outputs": [],
   "source": [
    "def stopword(x):\n",
    "    stop_words = set(stopwords.words('english')) \n",
    "    result = []\n",
    "    for i in x: \n",
    "        if i not in stop_words: \n",
    "            result.append(i)\n",
    "    return result\n",
    "\n",
    "def Pstem(x):\n",
    "    s=PorterStemmer()\n",
    "    return [s.stem(w) for w in x]\n",
    "\n",
    "def Lstem(x):\n",
    "    l=LancasterStemmer()\n",
    "    return [l.stem(w) for w in x]\n",
    "\n",
    "def trump(x):\n",
    "    return x['trump']\n",
    "\n",
    "def biden(x):\n",
    "    return x['biden']\n"
   ]
  },
  {
   "cell_type": "code",
   "execution_count": 322,
   "metadata": {
    "scrolled": true
   },
   "outputs": [
    {
     "data": {
      "text/plain": [
       "0    [fox, news, flash, top, entertainment, celebri...\n",
       "1    [white, house, strategic, communications, dire...\n",
       "2    [house, minority, leader, kevin, mccarthy, cal...\n",
       "3    [steve, hilton, highlights, president, trump, ...\n",
       "4    [president, trump, holds, making, america, gre...\n",
       "5    [former, arkansas, gov, mike, huckabee, discus...\n",
       "6    [trump, 2020, campaign, senior, adviser, gives...\n",
       "7    [former, house, speaker, breaks, vice, preside...\n",
       "8    [cain, latest, fox, bet, super, contest, fox, ...\n",
       "9    [five, discusses, president, democratic, nomin...\n",
       "Name: Text, dtype: object"
      ]
     },
     "execution_count": 322,
     "metadata": {},
     "output_type": "execute_result"
    }
   ],
   "source": [
    "eng=re.compile('[a-zA-Z0-9]+')\n",
    "news.Text.str.findall(eng)[0:10].apply(stopword)"
   ]
  },
  {
   "cell_type": "markdown",
   "metadata": {},
   "source": [
    "\n",
    "# 1\n"
   ]
  },
  {
   "cell_type": "code",
   "execution_count": 323,
   "metadata": {},
   "outputs": [],
   "source": [
    "news['trump_count']=news.Text.str.findall(eng).apply(stopword).apply(FreqDist).apply(trump)\n",
    "news['biden_count']=news.Text.str.findall(eng).apply(stopword).apply(FreqDist).apply(biden)"
   ]
  },
  {
   "cell_type": "code",
   "execution_count": 324,
   "metadata": {},
   "outputs": [],
   "source": [
    "count=news.groupby(['MB'])[['trump_count','biden_count']].sum()"
   ]
  },
  {
   "cell_type": "code",
   "execution_count": 486,
   "metadata": {},
   "outputs": [
    {
     "data": {
      "text/plain": [
       "<matplotlib.axes._subplots.AxesSubplot at 0x22a1e9fb940>"
      ]
     },
     "execution_count": 486,
     "metadata": {},
     "output_type": "execute_result"
    },
    {
     "data": {
      "image/png": "[encoded data removed]",
      "text/plain": [
       "<Figure size 432x288 with 1 Axes>"
      ]
     },
     "metadata": {
      "needs_background": "light"
     },
     "output_type": "display_data"
    }
   ],
   "source": [
    "count.plot(kind='bar',xlabel='Political Bias',color=('r','b'))"
   ]
  },
  {
   "cell_type": "markdown",
   "metadata": {},
   "source": [
    "\n",
    "## 2\n"
   ]
  },
  {
   "cell_type": "code",
   "execution_count": null,
   "metadata": {},
   "outputs": [],
   "source": [
    "# 일별 후보자 언급 빈도수"
   ]
  },
  {
   "cell_type": "code",
   "execution_count": 446,
   "metadata": {
    "scrolled": false
   },
   "outputs": [],
   "source": [
    "date_count=news.groupby(['Date'])[['trump_count','biden_count']].sum()\n",
    "date_count=date_count.T\n",
    "date_count['name']=['Trump','Biden']"
   ]
  },
  {
   "cell_type": "code",
   "execution_count": 430,
   "metadata": {},
   "outputs": [],
   "source": [
    "a=list(range(1,31))\n",
    "b=list((range(1,32)))\n",
    "col=a+b\n",
    "col[0]='9/1'\n",
    "col[30]='10/1'\n",
    "col.append('name')\n",
    "date_count.columns=col"
   ]
  },
  {
   "cell_type": "code",
   "execution_count": 431,
   "metadata": {},
   "outputs": [
    {
     "data": {
      "image/png": "[encoded data removed]",
      "text/plain": [
       "<Figure size 1296x360 with 1 Axes>"
      ]
     },
     "metadata": {
      "needs_background": "light"
     },
     "output_type": "display_data"
    }
   ],
   "source": [
    "from pandas.plotting import parallel_coordinates\n",
    "\n",
    "fig,ax=plt.subplots(1,1,figsize=(18,5))\n",
    "parallel_coordinates(date_count,'name',color=('r','b'),ax=ax)\n",
    "plt.xlabel=aaa\n",
    "plt.show()"
   ]
  },
  {
   "cell_type": "code",
   "execution_count": null,
   "metadata": {},
   "outputs": [],
   "source": [
    "# 기간별 후보자 언급 빈도수"
   ]
  },
  {
   "cell_type": "code",
   "execution_count": 508,
   "metadata": {},
   "outputs": [
    {
     "data": {
      "text/plain": [
       "DatetimeIndex(['2020-08-30', '2020-09-06', '2020-09-13', '2020-09-20',\n",
       "               '2020-09-27', '2020-10-04', '2020-10-11', '2020-10-18',\n",
       "               '2020-10-25', '2020-11-01'],\n",
       "              dtype='datetime64[ns]', freq='W-SUN')"
      ]
     },
     "execution_count": 508,
     "metadata": {},
     "output_type": "execute_result"
    }
   ],
   "source": [
    "date_rng"
   ]
  },
  {
   "cell_type": "code",
   "execution_count": 479,
   "metadata": {},
   "outputs": [],
   "source": [
    "week_count=news.groupby(['Week'])[['trump_count','biden_count']].sum()\n",
    "week_count=week_count.T"
   ]
  },
  {
   "cell_type": "code",
   "execution_count": 480,
   "metadata": {},
   "outputs": [],
   "source": [
    "c=list(range(1,10))\n",
    "week_count.columns=list(map(lambda x:str(x)+' period',c))"
   ]
  },
  {
   "cell_type": "code",
   "execution_count": 482,
   "metadata": {},
   "outputs": [],
   "source": [
    "week_count['name']=['Trump','Biden']"
   ]
  },
  {
   "cell_type": "code",
   "execution_count": 502,
   "metadata": {},
   "outputs": [
    {
     "data": {
      "image/png": "[encoded data removed]",
      "text/plain": [
       "<Figure size 1296x360 with 1 Axes>"
      ]
     },
     "metadata": {
      "needs_background": "light"
     },
     "output_type": "display_data"
    }
   ],
   "source": [
    "from pandas.plotting import parallel_coordinates\n",
    "\n",
    "fig,ax=plt.subplots(1,1,figsize=(18,5))\n",
    "parallel_coordinates(week_count,'name',color=('r','b'),ax=ax)\n",
    "plt.show()"
   ]
  },
  {
   "cell_type": "code",
   "execution_count": null,
   "metadata": {},
   "outputs": [],
   "source": [
    "#언론사별 후보자 언급 빈도수"
   ]
  },
  {
   "cell_type": "code",
   "execution_count": 490,
   "metadata": {},
   "outputs": [],
   "source": [
    "mb_count=news.groupby(['MB','Week'])[['trump_count','biden_count']].sum()\n",
    "mb_count=mb_count.T"
   ]
  },
  {
   "cell_type": "code",
   "execution_count": 493,
   "metadata": {},
   "outputs": [],
   "source": [
    "center=mb_count['Center']\n",
    "right=mb_count['Right']\n",
    "left=mb_count['Left']"
   ]
  },
  {
   "cell_type": "code",
   "execution_count": 496,
   "metadata": {},
   "outputs": [],
   "source": [
    "c=list(range(1,10))\n",
    "center.columns=list(map(lambda x:str(x)+' period',c))\n",
    "right.columns=list(map(lambda x:str(x)+' period',c))\n",
    "left.columns=list(map(lambda x:str(x)+' period',c))"
   ]
  },
  {
   "cell_type": "code",
   "execution_count": 497,
   "metadata": {},
   "outputs": [
    {
     "name": "stderr",
     "output_type": "stream",
     "text": [
      "C:\\Users\\jw517\\AppData\\Roaming\\Python\\Python37\\site-packages\\ipykernel_launcher.py:1: SettingWithCopyWarning: \n",
      "A value is trying to be set on a copy of a slice from a DataFrame.\n",
      "Try using .loc[row_indexer,col_indexer] = value instead\n",
      "\n",
      "See the caveats in the documentation: https://pandas.pydata.org/pandas-docs/stable/user_guide/indexing.html#returning-a-view-versus-a-copy\n",
      "  \"\"\"Entry point for launching an IPython kernel.\n",
      "C:\\Users\\jw517\\AppData\\Roaming\\Python\\Python37\\site-packages\\ipykernel_launcher.py:2: SettingWithCopyWarning: \n",
      "A value is trying to be set on a copy of a slice from a DataFrame.\n",
      "Try using .loc[row_indexer,col_indexer] = value instead\n",
      "\n",
      "See the caveats in the documentation: https://pandas.pydata.org/pandas-docs/stable/user_guide/indexing.html#returning-a-view-versus-a-copy\n",
      "  \n",
      "C:\\Users\\jw517\\AppData\\Roaming\\Python\\Python37\\site-packages\\ipykernel_launcher.py:3: SettingWithCopyWarning: \n",
      "A value is trying to be set on a copy of a slice from a DataFrame.\n",
      "Try using .loc[row_indexer,col_indexer] = value instead\n",
      "\n",
      "See the caveats in the documentation: https://pandas.pydata.org/pandas-docs/stable/user_guide/indexing.html#returning-a-view-versus-a-copy\n",
      "  This is separate from the ipykernel package so we can avoid doing imports until\n"
     ]
    }
   ],
   "source": [
    "center['name']=['Trump','Biden']\n",
    "right['name']=['Trump','Biden']\n",
    "left['name']=['Trump','Biden']"
   ]
  },
  {
   "cell_type": "code",
   "execution_count": 503,
   "metadata": {},
   "outputs": [
    {
     "data": {
      "image/png": "[encoded data removed]",
      "text/plain": [
       "<Figure size 1296x360 with 1 Axes>"
      ]
     },
     "metadata": {
      "needs_background": "light"
     },
     "output_type": "display_data"
    }
   ],
   "source": [
    "from pandas.plotting import parallel_coordinates\n",
    "\n",
    "fig,ax=plt.subplots(1,1,figsize=(18,5))\n",
    "parallel_coordinates(center,'name',color=('r','b'),ax=ax)\n",
    "plt.\n",
    "plt.show()"
   ]
  },
  {
   "cell_type": "code",
   "execution_count": 504,
   "metadata": {},
   "outputs": [
    {
     "data": {
      "image/png": "[encoded data removed]",
      "text/plain": [
       "<Figure size 1296x360 with 1 Axes>"
      ]
     },
     "metadata": {
      "needs_background": "light"
     },
     "output_type": "display_data"
    }
   ],
   "source": [
    "from pandas.plotting import parallel_coordinates\n",
    "\n",
    "fig,ax=plt.subplots(1,1,figsize=(18,5))\n",
    "parallel_coordinates(right,'name',color=('r','b'),ax=ax)\n",
    "plt.show()"
   ]
  },
  {
   "cell_type": "code",
   "execution_count": 505,
   "metadata": {},
   "outputs": [
    {
     "data": {
      "image/png": "[encoded data removed]",
      "text/plain": [
       "<Figure size 1296x360 with 1 Axes>"
      ]
     },
     "metadata": {
      "needs_background": "light"
     },
     "output_type": "display_data"
    }
   ],
   "source": [
    "from pandas.plotting import parallel_coordinates\n",
    "\n",
    "fig,ax=plt.subplots(1,1,figsize=(18,5))\n",
    "parallel_coordinates(left,'name',color=('r','b'),ax=ax)\n",
    "plt.show()"
   ]
  },
  {
   "cell_type": "code",
   "execution_count": 519,
   "metadata": {},
   "outputs": [],
   "source": [
    "MB_date_count=news.groupby(['MB','Date'])[['trump_count','biden_count']].sum()\n",
    "left_date_count=MB_date_count.T['Left']\n",
    "left_date_count['name']=['Trump','Biden']"
   ]
  },
  {
   "cell_type": "code",
   "execution_count": 520,
   "metadata": {},
   "outputs": [],
   "source": [
    "left_date_count.columns=col"
   ]
  },
  {
   "cell_type": "code",
   "execution_count": 523,
   "metadata": {},
   "outputs": [
    {
     "data": {
      "image/png": "[encoded data removed]",
      "text/plain": [
       "<Figure size 1296x360 with 1 Axes>"
      ]
     },
     "metadata": {
      "needs_background": "light"
     },
     "output_type": "display_data"
    }
   ],
   "source": [
    "from pandas.plotting import parallel_coordinates\n",
    "\n",
    "fig,ax=plt.subplots(1,1,figsize=(18,5))\n",
    "parallel_coordinates(left_date_count,'name',color=('r','b'),ax=ax)\n",
    "plt.xlabel=aaa\n",
    "plt.show()"
   ]
  },
  {
   "cell_type": "markdown",
   "metadata": {},
   "source": [
    "\n",
    "## 3\n"
   ]
  },
  {
   "cell_type": "code",
   "execution_count": 326,
   "metadata": {},
   "outputs": [],
   "source": [
    "news['Token']=news.Text.str.findall(eng).apply(stopword)"
   ]
  },
  {
   "cell_type": "code",
   "execution_count": 360,
   "metadata": {},
   "outputs": [],
   "source": [
    "def upper(x):\n",
    "    y=[]\n",
    "    for i in x:\n",
    "        if i=='trump':\n",
    "            i='Trump'\n",
    "        if i=='biden':\n",
    "            i='Biden'\n",
    "        y.append(i)\n",
    "    return y\n",
    "\n",
    "def join(x):\n",
    "    return \" \".join(x)\n",
    "\n",
    "def proper_lemmatize(x):\n",
    "    WL = WordNetLemmatizer()\n",
    "    lis=[]\n",
    "    for word,tag in x:\n",
    "        if tag[0]=='V':\n",
    "            lis.append(WL.lemmatize(word,'v'))\n",
    "        elif tag[0]=='J':\n",
    "            lis.append(WL.lemmatize(word,'a'))\n",
    "        elif tag[0]=='NNP':\n",
    "            lis.append(word)\n",
    "        else:\n",
    "            lis.append(WL.lemmatize(word))\n",
    "    return lis\n",
    "\n",
    "def byebye(x):\n",
    "    bye=[\"would\", \"election\", \"could\", \"also\", \"president\",\n",
    "     \"vote\", \"voter\", \"house\", \"run\", \"two\", \"rox\", \n",
    "     \"reuters\",\"way\",\"go\", \"point\", \"take\", \"say\",\"Biden\",'Trump','think']\n",
    "    stop_words = bye\n",
    "    result = []\n",
    "    for i in x: \n",
    "        if i not in stop_words: \n",
    "            result.append(i)\n",
    "    return result"
   ]
  },
  {
   "cell_type": "code",
   "execution_count": 361,
   "metadata": {},
   "outputs": [],
   "source": [
    "news['tag']=news.Token.apply(upper).apply(pos_tag)"
   ]
  },
  {
   "cell_type": "code",
   "execution_count": 362,
   "metadata": {},
   "outputs": [],
   "source": [
    "news['Text_A']=news['tag'].apply(proper_lemmatize).apply(byebye).apply(join)"
   ]
  },
  {
   "cell_type": "code",
   "execution_count": 363,
   "metadata": {},
   "outputs": [
    {
     "data": {
      "text/plain": [
       "TfidfVectorizer(min_df=2)"
      ]
     },
     "execution_count": 363,
     "metadata": {},
     "output_type": "execute_result"
    }
   ],
   "source": [
    "tf=TfidfVectorizer(min_df=2)\n",
    "tf.fit(news.Text_A)"
   ]
  },
  {
   "cell_type": "code",
   "execution_count": 366,
   "metadata": {},
   "outputs": [],
   "source": [
    "news_week=news.groupby(['Week'])['Text_A'].sum()"
   ]
  },
  {
   "cell_type": "code",
   "execution_count": 367,
   "metadata": {},
   "outputs": [
    {
     "data": {
      "text/plain": [
       "Week\n",
       "[2020-08-30, 2020-09-06)    fox news flash top entertainment celebrity hea...\n",
       "[2020-09-06, 2020-09-13)    former 2016 campaign advisor steve moore forme...\n",
       "[2020-09-13, 2020-09-20)    romney 2012 policy director lanhee chen fox ne...\n",
       "[2020-09-20, 2020-09-27)    former vice discus healthcare plan final debat...\n",
       "[2020-09-27, 2020-10-04)    data show nearly million cast already bret bai...\n",
       "[2020-10-04, 2020-10-11)    senator question amy coney barrett stance affo...\n",
       "[2020-10-11, 2020-10-18)    vice presidential debate vice mike penny democ...\n",
       "[2020-10-18, 2020-10-25)    2020 deputy communication director matt wolkin...\n",
       "[2020-10-25, 2020-11-01)    fox news flash top headline check click foxnew...\n",
       "Name: Text_A, dtype: object"
      ]
     },
     "execution_count": 367,
     "metadata": {},
     "output_type": "execute_result"
    }
   ],
   "source": [
    "news_week"
   ]
  },
  {
   "cell_type": "markdown",
   "metadata": {},
   "source": [
    "\n",
    "# 4\n"
   ]
  },
  {
   "cell_type": "code",
   "execution_count": null,
   "metadata": {},
   "outputs": [],
   "source": [
    "#전체 키워드 top 10"
   ]
  },
  {
   "cell_type": "code",
   "execution_count": 528,
   "metadata": {},
   "outputs": [
    {
     "data": {
      "text/html": [
       "<div>\n",
       "<style scoped>\n",
       "    .dataframe tbody tr th:only-of-type {\n",
       "        vertical-align: middle;\n",
       "    }\n",
       "\n",
       "    .dataframe tbody tr th {\n",
       "        vertical-align: top;\n",
       "    }\n",
       "\n",
       "    .dataframe thead th {\n",
       "        text-align: right;\n",
       "    }\n",
       "</style>\n",
       "<table border=\"1\" class=\"dataframe\">\n",
       "  <thead>\n",
       "    <tr style=\"text-align: right;\">\n",
       "      <th></th>\n",
       "      <th>0</th>\n",
       "    </tr>\n",
       "  </thead>\n",
       "  <tbody>\n",
       "    <tr>\n",
       "      <th>0</th>\n",
       "      <td>state</td>\n",
       "    </tr>\n",
       "    <tr>\n",
       "      <th>1</th>\n",
       "      <td>ballot</td>\n",
       "    </tr>\n",
       "    <tr>\n",
       "      <th>2</th>\n",
       "      <td>campaign</td>\n",
       "    </tr>\n",
       "    <tr>\n",
       "      <th>3</th>\n",
       "      <td>debate</td>\n",
       "    </tr>\n",
       "    <tr>\n",
       "      <th>4</th>\n",
       "      <td>percent</td>\n",
       "    </tr>\n",
       "    <tr>\n",
       "      <th>5</th>\n",
       "      <td>poll</td>\n",
       "    </tr>\n",
       "    <tr>\n",
       "      <th>6</th>\n",
       "      <td>woman</td>\n",
       "    </tr>\n",
       "    <tr>\n",
       "      <th>7</th>\n",
       "      <td>republican</td>\n",
       "    </tr>\n",
       "    <tr>\n",
       "      <th>8</th>\n",
       "      <td>year</td>\n",
       "    </tr>\n",
       "    <tr>\n",
       "      <th>9</th>\n",
       "      <td>court</td>\n",
       "    </tr>\n",
       "  </tbody>\n",
       "</table>\n",
       "</div>"
      ],
      "text/plain": [
       "            0\n",
       "0       state\n",
       "1      ballot\n",
       "2    campaign\n",
       "3      debate\n",
       "4     percent\n",
       "5        poll\n",
       "6       woman\n",
       "7  republican\n",
       "8        year\n",
       "9       court"
      ]
     },
     "execution_count": 528,
     "metadata": {},
     "output_type": "execute_result"
    }
   ],
   "source": [
    "whole_keyword=tf.transform(news_week).toarray().sum(axis=0).argsort()[::-1]\n",
    "result=[]\n",
    "voca={j:i for i,j in tf.vocabulary_.items()}\n",
    "for j in whole_keyword[:10]:\n",
    "    result.append(voca[j])\n",
    "\n",
    "pd.DataFrame(result)"
   ]
  },
  {
   "cell_type": "code",
   "execution_count": null,
   "metadata": {},
   "outputs": [],
   "source": [
    "### 주간 키워드 top10"
   ]
  },
  {
   "cell_type": "code",
   "execution_count": null,
   "metadata": {},
   "outputs": [],
   "source": [
    "def voca_top10(x):\n",
    "    result=[]\n",
    "    voca={j:i for i,j in tf.vocabulary_.items()}\n",
    "\n",
    "    for i in x:\n",
    "        result1=[]\n",
    "        i=i[::-1]\n",
    "        for j in i[:10]:\n",
    "            result1.append(voca[j])\n",
    "        result.append(result1)\n",
    "    return result"
   ]
  },
  {
   "cell_type": "code",
   "execution_count": 116,
   "metadata": {},
   "outputs": [
    {
     "data": {
      "text/html": [
       "<div>\n",
       "<style scoped>\n",
       "    .dataframe tbody tr th:only-of-type {\n",
       "        vertical-align: middle;\n",
       "    }\n",
       "\n",
       "    .dataframe tbody tr th {\n",
       "        vertical-align: top;\n",
       "    }\n",
       "\n",
       "    .dataframe thead th {\n",
       "        text-align: right;\n",
       "    }\n",
       "</style>\n",
       "<table border=\"1\" class=\"dataframe\">\n",
       "  <thead>\n",
       "    <tr style=\"text-align: right;\">\n",
       "      <th></th>\n",
       "      <th>0</th>\n",
       "      <th>1</th>\n",
       "      <th>2</th>\n",
       "      <th>3</th>\n",
       "      <th>4</th>\n",
       "      <th>5</th>\n",
       "      <th>6</th>\n",
       "      <th>7</th>\n",
       "      <th>8</th>\n",
       "      <th>9</th>\n",
       "    </tr>\n",
       "    <tr>\n",
       "      <th>Week</th>\n",
       "      <th></th>\n",
       "      <th></th>\n",
       "      <th></th>\n",
       "      <th></th>\n",
       "      <th></th>\n",
       "      <th></th>\n",
       "      <th></th>\n",
       "      <th></th>\n",
       "      <th></th>\n",
       "      <th></th>\n",
       "    </tr>\n",
       "  </thead>\n",
       "  <tbody>\n",
       "    <tr>\n",
       "      <th>[2020-08-30, 2020-09-06)</th>\n",
       "      <td>trump</td>\n",
       "      <td>say</td>\n",
       "      <td>biden</td>\n",
       "      <td>woman</td>\n",
       "      <td>voter</td>\n",
       "      <td>percent</td>\n",
       "      <td>election</td>\n",
       "      <td>president</td>\n",
       "      <td>vote</td>\n",
       "      <td>debate</td>\n",
       "    </tr>\n",
       "    <tr>\n",
       "      <th>[2020-09-06, 2020-09-13)</th>\n",
       "      <td>trump</td>\n",
       "      <td>say</td>\n",
       "      <td>biden</td>\n",
       "      <td>woman</td>\n",
       "      <td>tax</td>\n",
       "      <td>voter</td>\n",
       "      <td>zone</td>\n",
       "      <td>percent</td>\n",
       "      <td>president</td>\n",
       "      <td>campaign</td>\n",
       "    </tr>\n",
       "    <tr>\n",
       "      <th>[2020-09-13, 2020-09-20)</th>\n",
       "      <td>trump</td>\n",
       "      <td>say</td>\n",
       "      <td>biden</td>\n",
       "      <td>woman</td>\n",
       "      <td>voter</td>\n",
       "      <td>campaign</td>\n",
       "      <td>state</td>\n",
       "      <td>president</td>\n",
       "      <td>percent</td>\n",
       "      <td>vote</td>\n",
       "    </tr>\n",
       "    <tr>\n",
       "      <th>[2020-09-20, 2020-09-27)</th>\n",
       "      <td>say</td>\n",
       "      <td>trump</td>\n",
       "      <td>biden</td>\n",
       "      <td>voter</td>\n",
       "      <td>woman</td>\n",
       "      <td>election</td>\n",
       "      <td>vote</td>\n",
       "      <td>zone</td>\n",
       "      <td>state</td>\n",
       "      <td>president</td>\n",
       "    </tr>\n",
       "    <tr>\n",
       "      <th>[2020-09-27, 2020-10-04)</th>\n",
       "      <td>trump</td>\n",
       "      <td>biden</td>\n",
       "      <td>say</td>\n",
       "      <td>election</td>\n",
       "      <td>debate</td>\n",
       "      <td>vote</td>\n",
       "      <td>state</td>\n",
       "      <td>voter</td>\n",
       "      <td>president</td>\n",
       "      <td>think</td>\n",
       "    </tr>\n",
       "    <tr>\n",
       "      <th>[2020-10-04, 2020-10-11)</th>\n",
       "      <td>trump</td>\n",
       "      <td>say</td>\n",
       "      <td>biden</td>\n",
       "      <td>election</td>\n",
       "      <td>state</td>\n",
       "      <td>vote</td>\n",
       "      <td>harris</td>\n",
       "      <td>voter</td>\n",
       "      <td>penny</td>\n",
       "      <td>president</td>\n",
       "    </tr>\n",
       "    <tr>\n",
       "      <th>[2020-10-11, 2020-10-18)</th>\n",
       "      <td>trump</td>\n",
       "      <td>biden</td>\n",
       "      <td>say</td>\n",
       "      <td>election</td>\n",
       "      <td>vote</td>\n",
       "      <td>state</td>\n",
       "      <td>president</td>\n",
       "      <td>ballot</td>\n",
       "      <td>voter</td>\n",
       "      <td>debate</td>\n",
       "    </tr>\n",
       "    <tr>\n",
       "      <th>[2020-10-18, 2020-10-25)</th>\n",
       "      <td>trump</td>\n",
       "      <td>say</td>\n",
       "      <td>biden</td>\n",
       "      <td>election</td>\n",
       "      <td>vote</td>\n",
       "      <td>president</td>\n",
       "      <td>state</td>\n",
       "      <td>ballot</td>\n",
       "      <td>voter</td>\n",
       "      <td>debate</td>\n",
       "    </tr>\n",
       "    <tr>\n",
       "      <th>[2020-10-25, 2020-11-01)</th>\n",
       "      <td>trump</td>\n",
       "      <td>say</td>\n",
       "      <td>election</td>\n",
       "      <td>vote</td>\n",
       "      <td>state</td>\n",
       "      <td>biden</td>\n",
       "      <td>ballot</td>\n",
       "      <td>think</td>\n",
       "      <td>voter</td>\n",
       "      <td>alberta</td>\n",
       "    </tr>\n",
       "  </tbody>\n",
       "</table>\n",
       "</div>"
      ],
      "text/plain": [
       "                              0      1         2         3       4          5  \\\n",
       "Week                                                                            \n",
       "[2020-08-30, 2020-09-06)  trump    say     biden     woman   voter    percent   \n",
       "[2020-09-06, 2020-09-13)  trump    say     biden     woman     tax      voter   \n",
       "[2020-09-13, 2020-09-20)  trump    say     biden     woman   voter   campaign   \n",
       "[2020-09-20, 2020-09-27)    say  trump     biden     voter   woman   election   \n",
       "[2020-09-27, 2020-10-04)  trump  biden       say  election  debate       vote   \n",
       "[2020-10-04, 2020-10-11)  trump    say     biden  election   state       vote   \n",
       "[2020-10-11, 2020-10-18)  trump  biden       say  election    vote      state   \n",
       "[2020-10-18, 2020-10-25)  trump    say     biden  election    vote  president   \n",
       "[2020-10-25, 2020-11-01)  trump    say  election      vote   state      biden   \n",
       "\n",
       "                                  6          7          8          9  \n",
       "Week                                                                  \n",
       "[2020-08-30, 2020-09-06)   election  president       vote     debate  \n",
       "[2020-09-06, 2020-09-13)       zone    percent  president   campaign  \n",
       "[2020-09-13, 2020-09-20)      state  president    percent       vote  \n",
       "[2020-09-20, 2020-09-27)       vote       zone      state  president  \n",
       "[2020-09-27, 2020-10-04)      state      voter  president      think  \n",
       "[2020-10-04, 2020-10-11)     harris      voter      penny  president  \n",
       "[2020-10-11, 2020-10-18)  president     ballot      voter     debate  \n",
       "[2020-10-18, 2020-10-25)      state     ballot      voter     debate  \n",
       "[2020-10-25, 2020-11-01)     ballot      think      voter    alberta  "
      ]
     },
     "execution_count": 116,
     "metadata": {},
     "output_type": "execute_result"
    }
   ],
   "source": [
    "keyword=tf.transform(news_week).toarray().argsort()\n",
    "pd.DataFrame(voca_top10(keyword),index=news_week.index)"
   ]
  },
  {
   "cell_type": "code",
   "execution_count": null,
   "metadata": {},
   "outputs": [],
   "source": [
    "# 전체 키워드에 대한 카테고리별 top10"
   ]
  },
  {
   "cell_type": "code",
   "execution_count": 259,
   "metadata": {},
   "outputs": [],
   "source": [
    "def whole_top(ranking,data):\n",
    "    dic={}\n",
    "    \n",
    "    voca={j:i for i,j in tf.vocabulary_.items()}\n",
    "    array=tf.transform(data).toarray()\n",
    "    \n",
    "    for i in whole_keyword[0:ranking]:\n",
    "        tfidf=[]\n",
    "        for num in range(len(data)):\n",
    "            tfidf.append(array[num][i])\n",
    "        dic[voca[i]]=tfidf\n",
    "    df=pd.DataFrame(dic)\n",
    "    return df.T"
   ]
  },
  {
   "cell_type": "code",
   "execution_count": 271,
   "metadata": {},
   "outputs": [
    {
     "data": {
      "text/html": [
       "<div>\n",
       "<style scoped>\n",
       "    .dataframe tbody tr th:only-of-type {\n",
       "        vertical-align: middle;\n",
       "    }\n",
       "\n",
       "    .dataframe tbody tr th {\n",
       "        vertical-align: top;\n",
       "    }\n",
       "\n",
       "    .dataframe thead th {\n",
       "        text-align: right;\n",
       "    }\n",
       "</style>\n",
       "<table border=\"1\" class=\"dataframe\">\n",
       "  <thead>\n",
       "    <tr style=\"text-align: right;\">\n",
       "      <th></th>\n",
       "      <th>0</th>\n",
       "      <th>1</th>\n",
       "      <th>2</th>\n",
       "      <th>3</th>\n",
       "      <th>4</th>\n",
       "      <th>5</th>\n",
       "      <th>6</th>\n",
       "      <th>7</th>\n",
       "      <th>8</th>\n",
       "    </tr>\n",
       "  </thead>\n",
       "  <tbody>\n",
       "    <tr>\n",
       "      <th>trump</th>\n",
       "      <td>0.257477</td>\n",
       "      <td>0.260906</td>\n",
       "      <td>0.264760</td>\n",
       "      <td>0.234318</td>\n",
       "      <td>0.265492</td>\n",
       "      <td>0.226666</td>\n",
       "      <td>0.255334</td>\n",
       "      <td>0.242068</td>\n",
       "      <td>0.223224</td>\n",
       "    </tr>\n",
       "    <tr>\n",
       "      <th>say</th>\n",
       "      <td>0.227794</td>\n",
       "      <td>0.232497</td>\n",
       "      <td>0.243980</td>\n",
       "      <td>0.247671</td>\n",
       "      <td>0.214705</td>\n",
       "      <td>0.203476</td>\n",
       "      <td>0.205888</td>\n",
       "      <td>0.207519</td>\n",
       "      <td>0.195616</td>\n",
       "    </tr>\n",
       "    <tr>\n",
       "      <th>biden</th>\n",
       "      <td>0.213649</td>\n",
       "      <td>0.206923</td>\n",
       "      <td>0.224600</td>\n",
       "      <td>0.210811</td>\n",
       "      <td>0.229002</td>\n",
       "      <td>0.177352</td>\n",
       "      <td>0.207662</td>\n",
       "      <td>0.203526</td>\n",
       "      <td>0.169010</td>\n",
       "    </tr>\n",
       "    <tr>\n",
       "      <th>election</th>\n",
       "      <td>0.125181</td>\n",
       "      <td>0.103902</td>\n",
       "      <td>0.113181</td>\n",
       "      <td>0.140844</td>\n",
       "      <td>0.157478</td>\n",
       "      <td>0.169259</td>\n",
       "      <td>0.171693</td>\n",
       "      <td>0.190287</td>\n",
       "      <td>0.188620</td>\n",
       "    </tr>\n",
       "    <tr>\n",
       "      <th>vote</th>\n",
       "      <td>0.120528</td>\n",
       "      <td>0.106788</td>\n",
       "      <td>0.114754</td>\n",
       "      <td>0.131104</td>\n",
       "      <td>0.132092</td>\n",
       "      <td>0.145081</td>\n",
       "      <td>0.159566</td>\n",
       "      <td>0.159706</td>\n",
       "      <td>0.174767</td>\n",
       "    </tr>\n",
       "    <tr>\n",
       "      <th>voter</th>\n",
       "      <td>0.154953</td>\n",
       "      <td>0.146602</td>\n",
       "      <td>0.145715</td>\n",
       "      <td>0.162933</td>\n",
       "      <td>0.126701</td>\n",
       "      <td>0.123327</td>\n",
       "      <td>0.134938</td>\n",
       "      <td>0.117316</td>\n",
       "      <td>0.118864</td>\n",
       "    </tr>\n",
       "    <tr>\n",
       "      <th>state</th>\n",
       "      <td>0.115146</td>\n",
       "      <td>0.116373</td>\n",
       "      <td>0.134424</td>\n",
       "      <td>0.119538</td>\n",
       "      <td>0.129485</td>\n",
       "      <td>0.145367</td>\n",
       "      <td>0.155306</td>\n",
       "      <td>0.138039</td>\n",
       "      <td>0.174123</td>\n",
       "    </tr>\n",
       "    <tr>\n",
       "      <th>president</th>\n",
       "      <td>0.124739</td>\n",
       "      <td>0.127314</td>\n",
       "      <td>0.117592</td>\n",
       "      <td>0.119508</td>\n",
       "      <td>0.125672</td>\n",
       "      <td>0.120049</td>\n",
       "      <td>0.147104</td>\n",
       "      <td>0.140165</td>\n",
       "      <td>0.110232</td>\n",
       "    </tr>\n",
       "    <tr>\n",
       "      <th>ballot</th>\n",
       "      <td>0.072834</td>\n",
       "      <td>0.071939</td>\n",
       "      <td>0.076398</td>\n",
       "      <td>0.102917</td>\n",
       "      <td>0.092404</td>\n",
       "      <td>0.112441</td>\n",
       "      <td>0.135814</td>\n",
       "      <td>0.131528</td>\n",
       "      <td>0.132987</td>\n",
       "    </tr>\n",
       "    <tr>\n",
       "      <th>campaign</th>\n",
       "      <td>0.104595</td>\n",
       "      <td>0.118535</td>\n",
       "      <td>0.136953</td>\n",
       "      <td>0.094515</td>\n",
       "      <td>0.101108</td>\n",
       "      <td>0.093896</td>\n",
       "      <td>0.101538</td>\n",
       "      <td>0.083776</td>\n",
       "      <td>0.079692</td>\n",
       "    </tr>\n",
       "  </tbody>\n",
       "</table>\n",
       "</div>"
      ],
      "text/plain": [
       "                  0         1         2         3         4         5  \\\n",
       "trump      0.257477  0.260906  0.264760  0.234318  0.265492  0.226666   \n",
       "say        0.227794  0.232497  0.243980  0.247671  0.214705  0.203476   \n",
       "biden      0.213649  0.206923  0.224600  0.210811  0.229002  0.177352   \n",
       "election   0.125181  0.103902  0.113181  0.140844  0.157478  0.169259   \n",
       "vote       0.120528  0.106788  0.114754  0.131104  0.132092  0.145081   \n",
       "voter      0.154953  0.146602  0.145715  0.162933  0.126701  0.123327   \n",
       "state      0.115146  0.116373  0.134424  0.119538  0.129485  0.145367   \n",
       "president  0.124739  0.127314  0.117592  0.119508  0.125672  0.120049   \n",
       "ballot     0.072834  0.071939  0.076398  0.102917  0.092404  0.112441   \n",
       "campaign   0.104595  0.118535  0.136953  0.094515  0.101108  0.093896   \n",
       "\n",
       "                  6         7         8  \n",
       "trump      0.255334  0.242068  0.223224  \n",
       "say        0.205888  0.207519  0.195616  \n",
       "biden      0.207662  0.203526  0.169010  \n",
       "election   0.171693  0.190287  0.188620  \n",
       "vote       0.159566  0.159706  0.174767  \n",
       "voter      0.134938  0.117316  0.118864  \n",
       "state      0.155306  0.138039  0.174123  \n",
       "president  0.147104  0.140165  0.110232  \n",
       "ballot     0.135814  0.131528  0.132987  \n",
       "campaign   0.101538  0.083776  0.079692  "
      ]
     },
     "execution_count": 271,
     "metadata": {},
     "output_type": "execute_result"
    }
   ],
   "source": [
    "whole_top(10,news_week)"
   ]
  },
  {
   "cell_type": "markdown",
   "metadata": {},
   "source": [
    "\n",
    "# 5\n"
   ]
  },
  {
   "cell_type": "code",
   "execution_count": 530,
   "metadata": {},
   "outputs": [],
   "source": [
    "def J(x):\n",
    "    WL = WordNetLemmatizer()\n",
    "    lis=[]\n",
    "    for word,tag in x:\n",
    "        if tag[0]=='J':\n",
    "            lis.append(WL.lemmatize(word,'a'))\n",
    "        else:\n",
    "            pass\n",
    "    return lis"
   ]
  },
  {
   "cell_type": "code",
   "execution_count": 531,
   "metadata": {},
   "outputs": [],
   "source": [
    "news['Text_B']=news['tag'].apply(J).apply(join)"
   ]
  },
  {
   "cell_type": "code",
   "execution_count": 532,
   "metadata": {},
   "outputs": [
    {
     "data": {
      "text/plain": [
       "TfidfVectorizer(min_df=2)"
      ]
     },
     "execution_count": 532,
     "metadata": {},
     "output_type": "execute_result"
    }
   ],
   "source": [
    "tfB=TfidfVectorizer(min_df=2)\n",
    "tfB.fit(news.Text_B)"
   ]
  },
  {
   "cell_type": "code",
   "execution_count": 538,
   "metadata": {},
   "outputs": [],
   "source": [
    "MB_date_b=news.groupby(['MB','Date'])['Text_B'].sum()"
   ]
  },
  {
   "cell_type": "code",
   "execution_count": 565,
   "metadata": {},
   "outputs": [],
   "source": [
    "lb=MB_date_b['Left']"
   ]
  },
  {
   "cell_type": "code",
   "execution_count": 566,
   "metadata": {},
   "outputs": [
    {
     "data": {
      "text/plain": [
       "['2020-10-12', '2020-10-13', '2020-10-14', '2020-10-15', '2020-10-16']"
      ]
     },
     "execution_count": 566,
     "metadata": {},
     "output_type": "execute_result"
    }
   ],
   "source": [
    "['2020-10-12', '2020-10-13', '2020-10-14','2020-10-15', '2020-10-16']"
   ]
  },
  {
   "cell_type": "code",
   "execution_count": 567,
   "metadata": {},
   "outputs": [],
   "source": [
    "lba=tfB.transform(lb).toarray().argsort()"
   ]
  },
  {
   "cell_type": "code",
   "execution_count": 568,
   "metadata": {},
   "outputs": [],
   "source": [
    "def voca_top10(x):\n",
    "    result=[]\n",
    "    voca={j:i for i,j in tfB.vocabulary_.items()}\n",
    "\n",
    "    for i in x:\n",
    "        result1=[]\n",
    "        i=i[::-1]\n",
    "        for j in i[:30]:\n",
    "            result1.append(voca[j])\n",
    "        result.append(result1)\n",
    "    return result"
   ]
  },
  {
   "cell_type": "code",
   "execution_count": 569,
   "metadata": {},
   "outputs": [
    {
     "data": {
      "text/html": [
       "<div>\n",
       "<style scoped>\n",
       "    .dataframe tbody tr th:only-of-type {\n",
       "        vertical-align: middle;\n",
       "    }\n",
       "\n",
       "    .dataframe tbody tr th {\n",
       "        vertical-align: top;\n",
       "    }\n",
       "\n",
       "    .dataframe thead th {\n",
       "        text-align: right;\n",
       "    }\n",
       "</style>\n",
       "<table border=\"1\" class=\"dataframe\">\n",
       "  <thead>\n",
       "    <tr style=\"text-align: right;\">\n",
       "      <th></th>\n",
       "      <th>0</th>\n",
       "      <th>1</th>\n",
       "      <th>2</th>\n",
       "      <th>3</th>\n",
       "      <th>4</th>\n",
       "      <th>5</th>\n",
       "      <th>6</th>\n",
       "      <th>7</th>\n",
       "      <th>8</th>\n",
       "      <th>9</th>\n",
       "      <th>...</th>\n",
       "      <th>20</th>\n",
       "      <th>21</th>\n",
       "      <th>22</th>\n",
       "      <th>23</th>\n",
       "      <th>24</th>\n",
       "      <th>25</th>\n",
       "      <th>26</th>\n",
       "      <th>27</th>\n",
       "      <th>28</th>\n",
       "      <th>29</th>\n",
       "    </tr>\n",
       "    <tr>\n",
       "      <th>Date</th>\n",
       "      <th></th>\n",
       "      <th></th>\n",
       "      <th></th>\n",
       "      <th></th>\n",
       "      <th></th>\n",
       "      <th></th>\n",
       "      <th></th>\n",
       "      <th></th>\n",
       "      <th></th>\n",
       "      <th></th>\n",
       "      <th></th>\n",
       "      <th></th>\n",
       "      <th></th>\n",
       "      <th></th>\n",
       "      <th></th>\n",
       "      <th></th>\n",
       "      <th></th>\n",
       "      <th></th>\n",
       "      <th></th>\n",
       "      <th></th>\n",
       "      <th></th>\n",
       "    </tr>\n",
       "  </thead>\n",
       "  <tbody>\n",
       "    <tr>\n",
       "      <th>2020-10-12</th>\n",
       "      <td>ufc</td>\n",
       "      <td>final</td>\n",
       "      <td>fivethirtyeight</td>\n",
       "      <td>average</td>\n",
       "      <td>progressive</td>\n",
       "      <td>qanon</td>\n",
       "      <td>many</td>\n",
       "      <td>gop</td>\n",
       "      <td>democratic</td>\n",
       "      <td>international</td>\n",
       "      <td>...</td>\n",
       "      <td>dnc</td>\n",
       "      <td>good</td>\n",
       "      <td>green</td>\n",
       "      <td>national</td>\n",
       "      <td>social</td>\n",
       "      <td>civil</td>\n",
       "      <td>similar</td>\n",
       "      <td>young</td>\n",
       "      <td>new</td>\n",
       "      <td>pro</td>\n",
       "    </tr>\n",
       "    <tr>\n",
       "      <th>2020-10-13</th>\n",
       "      <td>colombian</td>\n",
       "      <td>likely</td>\n",
       "      <td>aerial</td>\n",
       "      <td>colombia</td>\n",
       "      <td>stein</td>\n",
       "      <td>canada</td>\n",
       "      <td>new</td>\n",
       "      <td>united</td>\n",
       "      <td>manual</td>\n",
       "      <td>electoral</td>\n",
       "      <td>...</td>\n",
       "      <td>technological</td>\n",
       "      <td>presidential</td>\n",
       "      <td>percent</td>\n",
       "      <td>high</td>\n",
       "      <td>public</td>\n",
       "      <td>monday</td>\n",
       "      <td>trudeau</td>\n",
       "      <td>precinct</td>\n",
       "      <td>chinese</td>\n",
       "      <td>nba</td>\n",
       "    </tr>\n",
       "    <tr>\n",
       "      <th>2020-10-14</th>\n",
       "      <td>ufc</td>\n",
       "      <td>final</td>\n",
       "      <td>colombian</td>\n",
       "      <td>alberta</td>\n",
       "      <td>early</td>\n",
       "      <td>many</td>\n",
       "      <td>last</td>\n",
       "      <td>electoral</td>\n",
       "      <td>fivethirtyeight</td>\n",
       "      <td>average</td>\n",
       "      <td>...</td>\n",
       "      <td>win</td>\n",
       "      <td>close</td>\n",
       "      <td>large</td>\n",
       "      <td>danny</td>\n",
       "      <td>aerial</td>\n",
       "      <td>colombia</td>\n",
       "      <td>diaz</td>\n",
       "      <td>republican</td>\n",
       "      <td>florida</td>\n",
       "      <td>long</td>\n",
       "    </tr>\n",
       "    <tr>\n",
       "      <th>2020-10-15</th>\n",
       "      <td>early</td>\n",
       "      <td>republican</td>\n",
       "      <td>cbs</td>\n",
       "      <td>ufc</td>\n",
       "      <td>many</td>\n",
       "      <td>last</td>\n",
       "      <td>texas</td>\n",
       "      <td>new</td>\n",
       "      <td>final</td>\n",
       "      <td>democratic</td>\n",
       "      <td>...</td>\n",
       "      <td>electoral</td>\n",
       "      <td>least</td>\n",
       "      <td>positive</td>\n",
       "      <td>florida</td>\n",
       "      <td>first</td>\n",
       "      <td>recent</td>\n",
       "      <td>political</td>\n",
       "      <td>real</td>\n",
       "      <td>likely</td>\n",
       "      <td>pandemic</td>\n",
       "    </tr>\n",
       "    <tr>\n",
       "      <th>2020-10-16</th>\n",
       "      <td>ufc</td>\n",
       "      <td>early</td>\n",
       "      <td>final</td>\n",
       "      <td>colombian</td>\n",
       "      <td>electoral</td>\n",
       "      <td>percent</td>\n",
       "      <td>alberta</td>\n",
       "      <td>last</td>\n",
       "      <td>average</td>\n",
       "      <td>many</td>\n",
       "      <td>...</td>\n",
       "      <td>good</td>\n",
       "      <td>much</td>\n",
       "      <td>close</td>\n",
       "      <td>former</td>\n",
       "      <td>long</td>\n",
       "      <td>north</td>\n",
       "      <td>progressive</td>\n",
       "      <td>qanon</td>\n",
       "      <td>win</td>\n",
       "      <td>little</td>\n",
       "    </tr>\n",
       "  </tbody>\n",
       "</table>\n",
       "<p>5 rows × 30 columns</p>\n",
       "</div>"
      ],
      "text/plain": [
       "                   0           1                2          3            4   \\\n",
       "Date                                                                         \n",
       "2020-10-12        ufc       final  fivethirtyeight    average  progressive   \n",
       "2020-10-13  colombian      likely           aerial   colombia        stein   \n",
       "2020-10-14        ufc       final        colombian    alberta        early   \n",
       "2020-10-15      early  republican              cbs        ufc         many   \n",
       "2020-10-16        ufc       early            final  colombian    electoral   \n",
       "\n",
       "                 5        6          7                8              9   ...  \\\n",
       "Date                                                                     ...   \n",
       "2020-10-12    qanon     many        gop       democratic  international  ...   \n",
       "2020-10-13   canada      new     united           manual      electoral  ...   \n",
       "2020-10-14     many     last  electoral  fivethirtyeight        average  ...   \n",
       "2020-10-15     last    texas        new            final     democratic  ...   \n",
       "2020-10-16  percent  alberta       last          average           many  ...   \n",
       "\n",
       "                       20            21        22        23      24        25  \\\n",
       "Date                                                                            \n",
       "2020-10-12            dnc          good     green  national  social     civil   \n",
       "2020-10-13  technological  presidential   percent      high  public    monday   \n",
       "2020-10-14            win         close     large     danny  aerial  colombia   \n",
       "2020-10-15      electoral         least  positive   florida   first    recent   \n",
       "2020-10-16           good          much     close    former    long     north   \n",
       "\n",
       "                     26          27       28        29  \n",
       "Date                                                    \n",
       "2020-10-12      similar       young      new       pro  \n",
       "2020-10-13      trudeau    precinct  chinese       nba  \n",
       "2020-10-14         diaz  republican  florida      long  \n",
       "2020-10-15    political        real   likely  pandemic  \n",
       "2020-10-16  progressive       qanon      win    little  \n",
       "\n",
       "[5 rows x 30 columns]"
      ]
     },
     "execution_count": 569,
     "metadata": {},
     "output_type": "execute_result"
    }
   ],
   "source": [
    "pd.DataFrame(voca_top10(lba),index=lb.index).loc[['2020-10-12', '2020-10-13', '2020-10-14','2020-10-15', '2020-10-16']]"
   ]
  }
 ],
 "metadata": {
  "kernelspec": {
   "display_name": "Python 3",
   "language": "python",
   "name": "python3"
  },
  "language_info": {
   "codemirror_mode": {
    "name": "ipython",
    "version": 3
   },
   "file_extension": ".py",
   "mimetype": "text/x-python",
   "name": "python",
   "nbconvert_exporter": "python",
   "pygments_lexer": "ipython3",
   "version": "3.7.3"
  }
 },
 "nbformat": 4,
 "nbformat_minor": 2
}
